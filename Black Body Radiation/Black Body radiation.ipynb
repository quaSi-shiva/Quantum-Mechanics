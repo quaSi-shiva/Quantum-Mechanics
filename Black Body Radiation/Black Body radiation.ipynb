{
 "cells": [
  {
   "cell_type": "markdown",
   "id": "981b3445",
   "metadata": {
    "slideshow": {
     "slide_type": "slide"
    }
   },
   "source": [
    "$ E_\\lambda =\\frac{2\\pi hc^2}{\\lambda^5} \\frac{1}{e^\\frac{hc}{\\lambda kT}-1}  $ "
   ]
  },
  {
   "cell_type": "code",
   "execution_count": 1,
   "id": "2d807127",
   "metadata": {
    "slideshow": {
     "slide_type": "slide"
    }
   },
   "outputs": [
    {
     "data": {
      "application/vnd.jupyter.widget-view+json": {
       "model_id": "d6df87a7f96242efb6660e75c04cfb60",
       "version_major": 2,
       "version_minor": 0
      },
      "text/plain": [
       "interactive(children=(IntSlider(value=7500, description='T', max=9000, min=3000, step=500), Output()), _dom_cl…"
      ]
     },
     "metadata": {},
     "output_type": "display_data"
    }
   ],
   "source": [
    "# importing necessary packages\n",
    "from scipy.constants import c,k,h,pi\n",
    "from math import e\n",
    "\n",
    "from ipywidgets import interactive # interactive plotting\n",
    "import matplotlib.pyplot as plt\n",
    "from numpy import arange\n",
    "\n",
    "\n",
    "#definig the formulae for Planck's Radiation Law and R-J Law\n",
    "L = arange(0.1e-6,10e-6,0.01e-6)\n",
    "def Planck(L,T): # Function for Planck's Radiation Law\n",
    "    P=((8*pi*h*c)/(L**5))*(1/(e**((h*c)/(L*k*T))-1))\n",
    "    return (P)\n",
    "def R_J_Law(L,T):\n",
    "    R=((8*pi*h*c)/(L**5))\n",
    "    return R\n",
    "b = 2898 # assigning value too weins constant for calculation\n",
    "\n",
    "\n",
    "#defining function for interactive plotting\n",
    "def bbr(T=7500):\n",
    "    plt.figure(figsize=(20,6))#adjusting the dimensions of output graph\n",
    "    plt.plot(L*1e-6,Planck(L,T),label=\"Planck's Law for Energy Radiation\" )#plotting Plancks law\n",
    "    plt.plot(L*1e-6,R_J_Law(L,T), color='red',label=\"R-J law for Energy Radiation\")# plotting R-J law\n",
    "    plt.xlim(0.0,0.25*1e-11) #setting limits to xaxis\n",
    "    plt.ylim(0.0,11.5e6) # setting limits to the y axis\n",
    "    \n",
    "    #plotting the visible region wavelengths\n",
    "   \n",
    "    plt.axvspan(0.380e-12,0.420e-12,0,11.5e6,alpha=0.3,color='violet')\n",
    "    plt.axvspan(0.421e-12,0.450e-12,0,11.5e6,alpha=0.3,color='indigo')\n",
    "    plt.axvspan(0.451e-12,0.495e-12,0,11.5e6,alpha=0.3,color='blue')\n",
    "    plt.axvspan(0.499e-12,0.570e-12,0,11.5e6,alpha=0.3,color='green')\n",
    "    plt.axvspan(0.574e-12,0.590e-12,0,11.5e6,alpha=0.3,color='yellow')\n",
    "    plt.axvspan(0.594e-12,0.620e-12,0,11.5e6,alpha=0.3,color='orange')\n",
    "    plt.axvspan(0.624e-12,0.750e-12,0,11.5e6,alpha=0.3,color='red')\n",
    "   \n",
    "    \n",
    "    \n",
    "    \n",
    "    \n",
    "    plt.grid()#applying grids to the graph\n",
    "    plt.xlabel(\"$ \\lambda~~(\\mu~m)$ ----->\") # labelling x axis\n",
    "    plt.ylabel(\"$ E_\\lambda~d\\lambda $ ----->\") # labelling y axis\n",
    "    plt.title(\"Energy distribution in a Black Body as per Planck's Hypothesis\",fontsize=20) # writing title of graph\n",
    "    #indicating necessary things\n",
    "    plt.text(1.75e-12,0.8e7, \"$E_\\lambda = \\\\frac{8\\pi hc}{\\lambda^5} \\\\frac{1}{e^\\\\frac{hc}{\\lambda k_BT}-1}$\", fontsize=20)\n",
    "    plt.text(0.6e-12,0.7e7, f\"T = {T} K\", fontsize=16)\n",
    "    plt.text(0.6e-12,0.66e7,f\"$\\lambda_m = {b/T} \\mu m $\",fontsize=15)\n",
    "    plt.text(1.75e-12,0.7e7, \"Wein's displacement Law:$ \\lambda_{max}=b/T$\", fontsize=15)\n",
    "    plt.text(1.75e-12,0.55e7,\"$ h=6.62607015 x 10^{−34}~~s$\")\n",
    "    plt.text(1.75e-12,0.51e7,\"$ c=3 x 10^8 ms^{-1}~~$ \")\n",
    "    plt.text(1.75e-12,0.48e7,\"$ k_B=1.380649 × 10^{−23}~~JK^-1$\")\n",
    "    plt.text(1.75e-12,0.44e7,\"$ b=2898~~\\mu mK $\")\n",
    "    plt.text(0,1e7,\"\")\n",
    "    plt.text(0.1e-12,1e7,\"U-V Region\")\n",
    "    plt.text(0.420e-12,1e7,\"Visible Region\")\n",
    "    plt.text(0.760e-12,1e7,\"Near-Infrared\")\n",
    "    plt.text(2.6e-12,1e7,\"Infrared\")\n",
    "    plt.legend()\n",
    "    plt.show()\n",
    "       \n",
    "\n",
    "interactive(bbr, T=(3000,9000,500)) # setting the max, min, steps of variation for interactive plotting"
   ]
  },
  {
   "cell_type": "code",
   "execution_count": null,
   "id": "210e079e",
   "metadata": {},
   "outputs": [],
   "source": [
    "import pandas as pd\n",
    "solar_data = pd.read_excel('Standard Solar Spectra.xlsx')\n",
    "solar_data"
   ]
  },
  {
   "cell_type": "code",
   "execution_count": null,
   "id": "3db4dc25",
   "metadata": {},
   "outputs": [],
   "source": [
    "std_wavelength = solar_data.iloc[1:,5]\n",
    "std_intensity = solar_data.iloc[1:,6]\n",
    "wavelength = solar_data.iloc[1:,0]\n",
    "Extraterrestrial = solar_data.iloc[1:,1]\n",
    "Global_tilt = solar_data.iloc[1:,2]\n",
    "std_wavelength = solar_data.iloc[1:,5]"
   ]
  },
  {
   "cell_type": "code",
   "execution_count": null,
   "id": "184f10e9",
   "metadata": {},
   "outputs": [],
   "source": [
    "std_wavelength"
   ]
  },
  {
   "cell_type": "code",
   "execution_count": null,
   "id": "5e5381e7",
   "metadata": {},
   "outputs": [],
   "source": [
    "def Planck(L,T): # Function for Planck's Radiation Law\n",
    "    P=((2*pi*h*(c**2))/(L**5))*(1/(e**((h*c)/(L*k*T))-1))*1e-14\n",
    "    return (P)"
   ]
  },
  {
   "cell_type": "code",
   "execution_count": null,
   "id": "e4d4916c",
   "metadata": {},
   "outputs": [],
   "source": [
    "fig, axs = plt.subplots(2,2, figsize = (12,7)) #defining the subplots. subplots(x,y, figsize=(z,a)) means, x no of plots in \n",
    "# one row and y no of plots in one column, z inches wide and 'a' inches long plot\n",
    "plt.subplots_adjust(hspace=0.4, wspace=0.2)\n",
    "print(axs)\n",
    "\n",
    "\n",
    "axs[0][0].plot(wavelength,Extraterrestrial,'red',label='Extraterresrial Plot')\n",
    "axs[0][0].set_title('Extraterrestrial data')\n",
    "axs[0,0].set_xlabel('$\\lambda$ (nm) --->')\n",
    "axs[0][0].grid()\n",
    "axs[0,0].set_ylabel('$E_\\lambda d\\lambda~(Wm^2nm^-1)$ ---> ')\n",
    "\n",
    "\n",
    "axs[0][1].plot(wavelength,Global_tilt )\n",
    "axs[0][1].set_title('Global_tilt')\n",
    "axs[0][1].grid()\n",
    "axs[0,1].set_xlabel('$\\lambda$ (nm) --->')\n",
    "axs[0,1].set_ylabel('$E_\\lambda d\\lambda~(Wm^2nm^-1)$ ---> ')\n",
    "\n",
    "axs[1][0].scatter(std_wavelength,std_intensity,s = 3,label = 'Standard Spectra')\n",
    "axs[1][0].plot(L*1e9,Planck(L,6800),'orange',label=\"Planck's Law for Energy Radiation\" )#plotting Plancks law\n",
    "axs[1][0].set_xlim(0.0,4200)\n",
    "axs[1][0].set_title('Standard Spectra v/s Theoretical Spectra')\n",
    "axs[1][0].grid()\n",
    "axs[1, 0].text(2000,1.75, \"$E_\\lambda = \\\\frac{2\\pi hc^2}{\\lambda^5} \\\\frac{1}{e^\\\\frac{hc}{\\lambda k_BT}-1}$\", fontsize=14)\n",
    "axs[1,0].legend(loc = 'center right')\n",
    "axs[1,0].set_xlabel('$\\lambda$ (nm) --->')\n",
    "axs[1,0].set_ylabel('$E_\\lambda d\\lambda~(Wm^2nm^-1)$ ---> ')\n",
    "\n",
    "\n",
    "\n",
    "axs[1, 1].plot(wavelength,Extraterrestrial,'red',label='Extraterresrial Plot')\n",
    "axs[1, 1].plot(std_wavelength,std_intensity)\n",
    "axs[1, 1].plot(L*1e9,Planck(L,6800),label=\"Planck's Law for Energy Radiation\" )\n",
    "axs[1, 1].plot(wavelength,Global_tilt)\n",
    "axs[1][1].set_xlim(0.0,4200)\n",
    "axs[1][1].set_title('Overall comparison')\n",
    "axs[1][1].grid()\n",
    "axs[1,1].set_xlabel('$\\lambda$ (nm) --->')\n",
    "axs[1,1].set_ylabel('$E_\\lambda d\\lambda~(Wm^2nm^-1)$ ---> ')\n",
    "axs[1, 1].text(2000,1.75, \"$E_\\lambda = \\\\frac{2\\pi hc^2}{\\lambda^5} \\\\frac{1}{e^\\\\frac{hc}{\\lambda k_BT}-1}$\", fontsize=14)\n",
    "\n",
    "None"
   ]
  },
  {
   "cell_type": "code",
   "execution_count": null,
   "id": "af537c80",
   "metadata": {},
   "outputs": [],
   "source": []
  }
 ],
 "metadata": {
  "celltoolbar": "Slideshow",
  "kernelspec": {
   "display_name": "Python 3 (ipykernel)",
   "language": "python",
   "name": "python3"
  },
  "language_info": {
   "codemirror_mode": {
    "name": "ipython",
    "version": 3
   },
   "file_extension": ".py",
   "mimetype": "text/x-python",
   "name": "python",
   "nbconvert_exporter": "python",
   "pygments_lexer": "ipython3",
   "version": "3.11.7"
  }
 },
 "nbformat": 4,
 "nbformat_minor": 5
}
